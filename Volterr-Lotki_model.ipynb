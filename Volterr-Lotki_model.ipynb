{
 "cells": [
  {
   "cell_type": "code",
   "execution_count": 3,
   "metadata": {},
   "outputs": [],
   "source": [
    "import numpy as np\n",
    "import matplotlib.pyplot as plt\n",
    "from scipy import integrate\n",
    "%matplotlib inline"
   ]
  },
  {
   "cell_type": "code",
   "execution_count": 4,
   "metadata": {},
   "outputs": [],
   "source": [
    "def lotke_model(t,a,y):\n",
    "    r , f = y\n",
    "    dr_dt = 2*r-a*r*f\n",
    "    df_dt = -f+a*r*f\n",
    "    return dr_dt,df_dt\n",
    "        "
   ]
  },
  {
   "cell_type": "code",
   "execution_count": 10,
   "metadata": {},
   "outputs": [],
   "source": [
    "r0 = 100\n",
    "f0 = 100\n",
    "a = .01"
   ]
  },
  {
   "cell_type": "code",
   "execution_count": 11,
   "metadata": {},
   "outputs": [],
   "source": [
    "T = 50\n",
    "sol = integrate.solve_ivp(lambda t,y:lotke_model(t,a,y),[0,T],[r0,f0],dense_output = True)"
   ]
  },
  {
   "cell_type": "code",
   "execution_count": 21,
   "metadata": {},
   "outputs": [
    {
     "data": {
      "application/vnd.jupyter.widget-view+json": {
       "model_id": "e9852a6c0339452d8ee1b89cab8959ec",
       "version_major": 2,
       "version_minor": 0
      },
      "text/plain": [
       "interactive(children=(FloatSlider(value=0.01, description='a', max=0.5, step=0.01), Output()), _dom_classes=('…"
      ]
     },
     "metadata": {},
     "output_type": "display_data"
    },
    {
     "data": {
      "text/plain": [
       "<function __main__.interact_lotke(a=0.01)>"
      ]
     },
     "execution_count": 21,
     "metadata": {},
     "output_type": "execute_result"
    }
   ],
   "source": [
    "from ipywidgets import interact\n",
    "def interact_lotke(a = .01):\n",
    "    T = 50\n",
    "    sol = integrate.solve_ivp(lambda t,y:lotke_model(t,a,y),[0,T],[r0,f0],dense_output = True)\n",
    "    t = np.linspace(0,T,300)\n",
    "    y = sol.sol(t)\n",
    "    r, f =y[0, :], y[1, :]\n",
    "    plt.plot(t,r, label ='Численность жертв')\n",
    "    plt.plot(t,f, label ='Численность хищников')\n",
    "    plt.legend()\n",
    "    plt.xlabel('t')\n",
    "    plt.grid()\n",
    "    \n",
    "interact(interact_lotke,a=(0, .5, .01))"
   ]
  },
  {
   "cell_type": "code",
   "execution_count": null,
   "metadata": {},
   "outputs": [],
   "source": []
  }
 ],
 "metadata": {
  "kernelspec": {
   "display_name": "Python 3",
   "language": "python",
   "name": "python3"
  },
  "language_info": {
   "codemirror_mode": {
    "name": "ipython",
    "version": 3
   },
   "file_extension": ".py",
   "mimetype": "text/x-python",
   "name": "python",
   "nbconvert_exporter": "python",
   "pygments_lexer": "ipython3",
   "version": "3.7.6"
  }
 },
 "nbformat": 4,
 "nbformat_minor": 4
}
