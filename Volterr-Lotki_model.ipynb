{
 "cells": [
  {
   "cell_type": "markdown",
   "metadata": {},
   "source": [
    "## 18. Модель Вольтерра–Лотке\n",
    "Рассмотрим *модель хищник–жертва* Вольтерра́–Лотке простой экосистемы\n",
    "$$\n",
    "\\left\\{\n",
    "\\begin{array}{l}\n",
    "\\frac{\\displaystyle dr}{\\displaystyle dt} = 2r - \\alpha r f, \\\\[.5em]\n",
    "\\frac{\\displaystyle df}{\\displaystyle dt} = -f + \\alpha r f, \n",
    "\\end{array}\n",
    "\\right.\n",
    "$$\n",
    "$$\n",
    "r(0) = r_0,\\qquad\n",
    "f(0) = f_0,\n",
    "$$\n",
    "где\n",
    "$f$ – численность лис,\n",
    "$r$ – численность кроликов\n",
    "($\\alpha$, например, $0.01$;\n",
    "$r_0$, $f_0$ могут изменяться от нескольких единиц до нескольких тысяч) \n",
    "### Решение:\n",
    "Для решения задачи нам нужно\n",
    "* написать функцию,на которую будут подаваться некоторые величины\n",
    "* решить систему дифференциальных уравнений\n",
    "* построить график зависимости $f(t)$, $r(t)$\n",
    "* построить *фазовую траекторию* (траекторию в плоскости $(r,f)$)."
   ]
  },
  {
   "cell_type": "markdown",
   "metadata": {},
   "source": [
    "### Подключаем нужные нам библиотеки:"
   ]
  },
  {
   "cell_type": "code",
   "execution_count": 1,
   "metadata": {},
   "outputs": [],
   "source": [
    "\n",
    "import numpy as np\n",
    "import matplotlib.pyplot as plt\n",
    "from scipy import integrate\n",
    "%matplotlib inline"
   ]
  },
  {
   "cell_type": "markdown",
   "metadata": {},
   "source": [
    "### Описывание функции:\n",
    "Для решения задачи мы описываем функцию в которой должно происходить решение правой части системы.\n",
    "        На вход подаётся время $t$,коэфициент $a$,а так же $y$."
   ]
  },
  {
   "cell_type": "code",
   "execution_count": 2,
   "metadata": {},
   "outputs": [],
   "source": [
    "def lotke_model(t,a,y):\n",
    "    r , f = y\n",
    "    dr_dt = 2*r-a*r*f\n",
    "    df_dt = -f+a*r*f\n",
    "    return dr_dt,df_dt\n",
    "        "
   ]
  },
  {
   "cell_type": "markdown",
   "metadata": {},
   "source": [
    "### Начальные данные:\n"
   ]
  },
  {
   "cell_type": "code",
   "execution_count": 3,
   "metadata": {},
   "outputs": [],
   "source": [
    "r0 = 100\n",
    "f0 = 100\n",
    "a = .01"
   ]
  },
  {
   "cell_type": "markdown",
   "metadata": {},
   "source": [
    "### Описывание решателя(solve):\n",
    "С помощью решателя из scipy мы решаем систему дифференциальных уравнений.На вход подаётся заранее написанная функция,а так же интервал."
   ]
  },
  {
   "cell_type": "code",
   "execution_count": 4,
   "metadata": {},
   "outputs": [],
   "source": [
    "T = 50\n",
    "sol = integrate.solve_ivp(lambda t,y:lotke_model(t,a,y),[0,T],[r0,f0],dense_output = True)"
   ]
  },
  {
   "cell_type": "markdown",
   "metadata": {},
   "source": [
    "## Графическое изображение решения:\n",
    "Добавил немного интерактива для визуализации зависимости $f(t)$, $r(t)$"
   ]
  },
  {
   "cell_type": "code",
   "execution_count": 5,
   "metadata": {
    "scrolled": false
   },
   "outputs": [
    {
     "data": {
      "application/vnd.jupyter.widget-view+json": {
       "model_id": "1755013b7c5f44fa805eab87ad240592",
       "version_major": 2,
       "version_minor": 0
      },
      "text/plain": [
       "interactive(children=(FloatSlider(value=0.01, description='a', max=0.5, step=0.01), IntSlider(value=100, descr…"
      ]
     },
     "metadata": {},
     "output_type": "display_data"
    },
    {
     "data": {
      "text/plain": [
       "<function __main__.interact_lotke(a=0.01, f0=100, r0=100)>"
      ]
     },
     "execution_count": 5,
     "metadata": {},
     "output_type": "execute_result"
    }
   ],
   "source": [
    "from ipywidgets import interact\n",
    "def interact_lotke(a = .01,f0 = 100,r0 = 100):\n",
    "    T = 50\n",
    "    sol = integrate.solve_ivp(lambda t,y:lotke_model(t,a,y),[0,T],[r0,f0],dense_output = True)\n",
    "    t = np.linspace(0,T,300)\n",
    "    y = sol.sol(t)\n",
    "    r, f =y[0, :], y[1, :]\n",
    "    plt.plot(t,r, label ='Численность жертв')\n",
    "    plt.plot(t,f, label ='Численность хищников')\n",
    "    plt.legend()\n",
    "    plt.xlabel('t')\n",
    "    plt.grid()\n",
    "    \n",
    "    \n",
    "interact(interact_lotke,a=(0, .5, .01))"
   ]
  },
  {
   "cell_type": "markdown",
   "metadata": {},
   "source": [
    "#### Из полученного графика можно уже сделать несколько выводов:\n",
    "* Коэфициент $a$ отвечает за интенсивность встречаемости хищника и жертвы\n",
    "* Хищники начинают терять популяцию,во время того,когда жертв остаётся мало"
   ]
  },
  {
   "cell_type": "markdown",
   "metadata": {},
   "source": [
    "### Построим фазовый портрет в плоскости $(r,f)$ для различных значений"
   ]
  },
  {
   "cell_type": "code",
   "execution_count": 7,
   "metadata": {},
   "outputs": [
    {
     "data": {
      "application/vnd.jupyter.widget-view+json": {
       "model_id": "80789b8fc96041169f19b573d99b001e",
       "version_major": 2,
       "version_minor": 0
      },
      "text/plain": [
       "interactive(children=(FloatSlider(value=0.12, description='a', max=0.5, step=0.01), IntSlider(value=100, descr…"
      ]
     },
     "metadata": {},
     "output_type": "display_data"
    },
    {
     "data": {
      "application/vnd.jupyter.widget-view+json": {
       "model_id": "da9d60b34a094274967ef15845522ab9",
       "version_major": 2,
       "version_minor": 0
      },
      "text/plain": [
       "interactive(children=(FloatSlider(value=0.01, description='a', max=0.5, step=0.01), IntSlider(value=150, descr…"
      ]
     },
     "metadata": {},
     "output_type": "display_data"
    },
    {
     "data": {
      "application/vnd.jupyter.widget-view+json": {
       "model_id": "fad3762173e542d0a5e00818d5174e01",
       "version_major": 2,
       "version_minor": 0
      },
      "text/plain": [
       "interactive(children=(FloatSlider(value=0.01, description='a', max=0.5, step=0.01), IntSlider(value=100, descr…"
      ]
     },
     "metadata": {},
     "output_type": "display_data"
    },
    {
     "data": {
      "text/plain": [
       "<function __main__.interact_lotke2(a=0.01, f0=100, r0=20)>"
      ]
     },
     "execution_count": 7,
     "metadata": {},
     "output_type": "execute_result"
    }
   ],
   "source": [
    "from ipywidgets import interact\n",
    "\n",
    "def interact_lotke(a = .12,f0 = 100,r0 = 100):\n",
    "    T = 10\n",
    "    sol = integrate.solve_ivp(lambda t,y:lotke_model(t,a,y),[0,T],[r0,f0],dense_output = True)\n",
    "    t = np.linspace(0,T,100)\n",
    "    y = sol.sol(t)\n",
    "    plt.figure(figsize = (3, 3))\n",
    "    r, f =y[0, :], y[1, :]\n",
    "    plt.plot(sol.y[0,:], sol.y[1,:])\n",
    "    plt.xlabel('Хищники(рис.1)')\n",
    "    plt.ylabel('Жертвы')\n",
    "    plt.grid()\n",
    "interact(interact_lotke,a=(0, .5, .01))\n",
    "\n",
    "def interact_lotke1(a = .01,f0 = 150,r0 = 100):\n",
    "    T = 10\n",
    "    sol = integrate.solve_ivp(lambda t,y:lotke_model(t,a,y),[0,T],[r0,f0],dense_output = True)\n",
    "    t = np.linspace(0,T,100)\n",
    "    y = sol.sol(t)\n",
    "    plt.figure(figsize = (3, 3))\n",
    "    r, f =y[0, :], y[1, :]\n",
    "    plt.plot(sol.y[0,:], sol.y[1,:])\n",
    "    plt.xlabel('Хищники(рис.2)')\n",
    "    plt.ylabel('Жертвы')\n",
    "    plt.grid()  \n",
    "interact(interact_lotke1,a=(0, .5, .01))\n",
    "\n",
    "def interact_lotke2(a = .01,f0 = 100,r0 = 20):\n",
    "    T = 10\n",
    "    sol = integrate.solve_ivp(lambda t,y:lotke_model(t,a,y),[0,T],[r0,f0],dense_output = True)\n",
    "    t = np.linspace(0,T,100)\n",
    "    y = sol.sol(t)\n",
    "    plt.figure(figsize = (3, 3))\n",
    "    r, f =y[0, :], y[1, :]\n",
    "    plt.plot(sol.y[0,:], sol.y[1,:])\n",
    "    plt.xlabel('Хищники(рис.3)')\n",
    "    plt.ylabel('Жертвы')\n",
    "    plt.grid()\n",
    "interact(interact_lotke2,a=(0, .5, .01))"
   ]
  },
  {
   "cell_type": "markdown",
   "metadata": {},
   "source": [
    "## Выводы\n",
    "Мы рассмотрили модель хищник–жертва Вольтерра́–Лотке простой экосистемы,проанализировав полученные данные мы можем прийти к некоторым выводам\n",
    "* Особи каждого вида отмирают так, что в единицу времени погибает постоянная доля существующих особей.\n",
    "* Хищные виды поедают жертв, причем в единицу времени количество съеденных жертв всегда пропорционально вероятности встречи особей этих двух видов, т.е. произведению количества хищников на количество жертв.\n",
    "* Если вид питается пищей, имеющейся в неограниченном количестве, прирост численности вида в единицу времени пропорционален численности вида.\n",
    "* При увеличении коэфициента $a$(коэфициент встречаемости) можно наглядно увидеть,как почти вся популяция кроликов уничтожается.\n",
    "\n",
    "\n",
    "\n",
    "\n",
    "\n",
    " \n",
    " "
   ]
  },
  {
   "cell_type": "code",
   "execution_count": null,
   "metadata": {},
   "outputs": [],
   "source": []
  }
 ],
 "metadata": {
  "kernelspec": {
   "display_name": "Python 3",
   "language": "python",
   "name": "python3"
  },
  "language_info": {
   "codemirror_mode": {
    "name": "ipython",
    "version": 3
   },
   "file_extension": ".py",
   "mimetype": "text/x-python",
   "name": "python",
   "nbconvert_exporter": "python",
   "pygments_lexer": "ipython3",
   "version": "3.7.6"
  }
 },
 "nbformat": 4,
 "nbformat_minor": 4
}
